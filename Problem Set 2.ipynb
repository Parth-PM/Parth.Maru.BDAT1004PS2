{
 "cells": [
  {
   "cell_type": "markdown",
   "id": "450f9d3d",
   "metadata": {},
   "source": [
    "# Question 1"
   ]
  },
  {
   "cell_type": "code",
   "execution_count": 66,
   "id": "e72e7b95",
   "metadata": {},
   "outputs": [],
   "source": [
    "a = 0\n",
    "def b():\n",
    "    global a\n",
    "    a = c(a)\n",
    "def c(a):\n",
    "    return a + 2"
   ]
  },
  {
   "cell_type": "code",
   "execution_count": 67,
   "id": "e7ee51af",
   "metadata": {},
   "outputs": [
    {
     "data": {
      "text/plain": [
       "6"
      ]
     },
     "execution_count": 67,
     "metadata": {},
     "output_type": "execute_result"
    }
   ],
   "source": [
    "b()\n",
    "b()\n",
    "b()\n",
    "a"
   ]
  },
  {
   "cell_type": "raw",
   "id": "ae92abe4",
   "metadata": {},
   "source": [
    "There's an addition of 2 everytime,\n",
    "b() where a is 0 and addition of 2 = 2\n",
    "b() where a is 2 and addition of 2 = 4\n",
    "b() where a is 4 and addition of 4 = 6\n",
    "so, at the and value of a is 6."
   ]
  },
  {
   "cell_type": "markdown",
   "id": "047223aa",
   "metadata": {},
   "source": [
    "# Question 2"
   ]
  },
  {
   "cell_type": "code",
   "execution_count": 68,
   "id": "037311ba",
   "metadata": {},
   "outputs": [],
   "source": [
    "import os\n",
    "\n",
    "#Created a function 'filelength' as described\n",
    "def fileLength(filename):\n",
    "    \n",
    "    try:\n",
    "#counting total length of file\n",
    "        length = os.path.getsize(filename)\n",
    "    \n",
    "        print (length)\n",
    "#filenotfounderror exception\n",
    "    except FileNotFoundError:\n",
    "#error message\n",
    "        print(\"File\",str(filename),\"is not found\")"
   ]
  },
  {
   "cell_type": "code",
   "execution_count": 69,
   "id": "e2cda16a",
   "metadata": {},
   "outputs": [
    {
     "name": "stdout",
     "output_type": "stream",
     "text": [
      "127\n"
     ]
    }
   ],
   "source": [
    "fileLength('Filelength.txt')"
   ]
  },
  {
   "cell_type": "code",
   "execution_count": 70,
   "id": "6f96116c",
   "metadata": {},
   "outputs": [
    {
     "name": "stdout",
     "output_type": "stream",
     "text": [
      "File idterm.py is not found\n"
     ]
    }
   ],
   "source": [
    "fileLength('idterm.py')"
   ]
  },
  {
   "cell_type": "markdown",
   "id": "5598ac86",
   "metadata": {},
   "source": [
    "# Question 3"
   ]
  },
  {
   "cell_type": "code",
   "execution_count": 71,
   "id": "3ea53d82",
   "metadata": {},
   "outputs": [],
   "source": [
    "#Defining a main class\n",
    "class Marsupial:\n",
    "    \n",
    "    #Constuctor for main class\n",
    "    def __init__(self):\n",
    "        self.list = []\n",
    "        \n",
    "    def put_in_pouch(self,item):\n",
    "        self.list.append(item)\n",
    "    #Function for return list\n",
    "    def pouch_contents(self):\n",
    "        return self.list\n",
    "    \n",
    "#subclass of Musupial\n",
    "class Kangaroo(Marsupial):\n",
    "    \n",
    "    def __init__(self,a,b):\n",
    "        Marsupial.__init__(self)\n",
    "        self.a = a\n",
    "        self.b = b\n",
    "        \n",
    "    def jump(self,ma,mb):\n",
    "        self.a += ma\n",
    "        self.b += mb\n",
    "        \n",
    "    def __str__(self):\n",
    "        return 'I am Kangaroo located at coordinates ({},{})'.format(self.a,self.b)"
   ]
  },
  {
   "cell_type": "code",
   "execution_count": 72,
   "id": "273abc93",
   "metadata": {},
   "outputs": [
    {
     "name": "stdout",
     "output_type": "stream",
     "text": [
      "I am Kangaroo located at coordinates (0,0)\n"
     ]
    }
   ],
   "source": [
    "k = Kangaroo(0,0)\n",
    "print(k)"
   ]
  },
  {
   "cell_type": "code",
   "execution_count": 73,
   "id": "544cabca",
   "metadata": {},
   "outputs": [
    {
     "name": "stdout",
     "output_type": "stream",
     "text": [
      "['doll', 'firetruck', 'kitten']\n"
     ]
    }
   ],
   "source": [
    "k.put_in_pouch('doll')\n",
    "k.put_in_pouch('firetruck')\n",
    "k.put_in_pouch('kitten')\n",
    "print(k.pouch_contents())"
   ]
  },
  {
   "cell_type": "code",
   "execution_count": 74,
   "id": "4a2d4ba6",
   "metadata": {},
   "outputs": [
    {
     "name": "stdout",
     "output_type": "stream",
     "text": [
      "I am Kangaroo located at coordinates (3,0)\n"
     ]
    }
   ],
   "source": [
    "k.jump(1,0)\n",
    "k.jump(1,0)\n",
    "k.jump(1,0)\n",
    "print(k)"
   ]
  },
  {
   "cell_type": "markdown",
   "id": "089fe1b4",
   "metadata": {},
   "source": [
    "# Question 4"
   ]
  },
  {
   "cell_type": "code",
   "execution_count": 75,
   "id": "2594f9a3",
   "metadata": {},
   "outputs": [],
   "source": [
    "#defining function 'collatz' with int X\n",
    "def collatz(x):\n",
    "    \n",
    "    print(x)\n",
    "    \n",
    "    if x==1:\n",
    "        return\n",
    "    #if X is even\n",
    "    elif x%2==0:\n",
    "        return collatz(x/2)\n",
    "    #if X is odd\n",
    "    else:\n",
    "        return collatz(3*x+1)\n",
    "    \n",
    "    "
   ]
  },
  {
   "cell_type": "code",
   "execution_count": 76,
   "id": "d455d1bf",
   "metadata": {},
   "outputs": [
    {
     "name": "stdout",
     "output_type": "stream",
     "text": [
      "1\n"
     ]
    }
   ],
   "source": [
    "collatz(1)"
   ]
  },
  {
   "cell_type": "code",
   "execution_count": 77,
   "id": "82967169",
   "metadata": {},
   "outputs": [
    {
     "name": "stdout",
     "output_type": "stream",
     "text": [
      "10\n",
      "5.0\n",
      "16.0\n",
      "8.0\n",
      "4.0\n",
      "2.0\n",
      "1.0\n"
     ]
    }
   ],
   "source": [
    "collatz(10)"
   ]
  },
  {
   "cell_type": "markdown",
   "id": "a8b0d561",
   "metadata": {},
   "source": [
    "# Question 5"
   ]
  },
  {
   "cell_type": "code",
   "execution_count": 11,
   "id": "59946e33",
   "metadata": {},
   "outputs": [],
   "source": [
    "def binary(num):\n",
    "    if (num > 0):\n",
    "    \n",
    "        binary(num // 2)\n",
    "        print(num%2, end='')\n",
    "       "
   ]
  },
  {
   "cell_type": "code",
   "execution_count": 12,
   "id": "eb5c1589",
   "metadata": {},
   "outputs": [],
   "source": [
    "binary(0)"
   ]
  },
  {
   "cell_type": "code",
   "execution_count": 13,
   "id": "869b0249",
   "metadata": {},
   "outputs": [
    {
     "name": "stdout",
     "output_type": "stream",
     "text": [
      "1"
     ]
    }
   ],
   "source": [
    "binary(1)"
   ]
  },
  {
   "cell_type": "code",
   "execution_count": 14,
   "id": "210305e8",
   "metadata": {},
   "outputs": [
    {
     "name": "stdout",
     "output_type": "stream",
     "text": [
      "11"
     ]
    }
   ],
   "source": [
    "binary(3)"
   ]
  },
  {
   "cell_type": "code",
   "execution_count": 16,
   "id": "d6f05081",
   "metadata": {},
   "outputs": [
    {
     "name": "stdout",
     "output_type": "stream",
     "text": [
      "1001"
     ]
    }
   ],
   "source": [
    "binary(9)"
   ]
  },
  {
   "cell_type": "markdown",
   "id": "13770881",
   "metadata": {},
   "source": [
    "# Question 6"
   ]
  },
  {
   "cell_type": "code",
   "execution_count": 44,
   "id": "d1f4e786",
   "metadata": {},
   "outputs": [],
   "source": [
    "from urllib.parse import urljoin\n",
    "from html.parser import HTMLParser\n",
    "#HeadingParser as mentioned\n",
    "class HeadingParser(HTMLParser):\n",
    "    \n",
    "    def tags(self,tags,attrs):\n",
    "        # h1 heading have indent 0\n",
    "        if tag == \"h1\":\n",
    "            self.headerFlag = True\n",
    "            self.indent=0\n",
    "        elif tag == \"h2\":\n",
    "            self.headerFlag = True\n",
    "            self.indent=1\n",
    "        elif tag == \"h3\":\n",
    "            self.headerFlag = True\n",
    "            self.indent=2\n",
    "        elif tag == \"h4\":\n",
    "            self.headerFlag = True\n",
    "            self.indent=3\n",
    "        elif tag == \"h5\":\n",
    "            self.headerFlag = True\n",
    "            self.indent=4\n",
    "        elif tag == \"h6\":\n",
    "            self.headerFlag = True\n",
    "            self.indent=5\n",
    "        else:\n",
    "            self.headerFlag = False\n",
    "            self.indent=0\n",
    "    #tags2 for reseting headerflag\n",
    "    def tags2(self,tag,attrs):\n",
    "        if tag in [\"h1\",\"h2\",\"h3\",\"h4\",\"h5\",\"h6\"]:\n",
    "            self.headerFlag = True\n",
    "            \n",
    "        "
   ]
  },
  {
   "cell_type": "code",
   "execution_count": 45,
   "id": "a550d5e7",
   "metadata": {},
   "outputs": [],
   "source": [
    "# Implementation using w3c.html\n",
    "infile = open('w3c.html')\n",
    "content = infile.read()\n",
    "infile.close()\n",
    "hp = HeadingParser()\n",
    "hp.feed(content)\n",
    "            "
   ]
  },
  {
   "cell_type": "markdown",
   "id": "061d88f3",
   "metadata": {},
   "source": [
    "# Question 7"
   ]
  },
  {
   "cell_type": "code",
   "execution_count": null,
   "id": "464a0c59",
   "metadata": {},
   "outputs": [],
   "source": [
    "from urllib.request import urlopen\n",
    "from urllib.parse import urljoin\n",
    "\n",
    "from html.parser import HTMLParser\n",
    "\n",
    "def webdir(url):\n",
    "    print(('http://reed.cs.depaul.edu/lperkovic/csc242/test1.html', 2, 0)\n",
    "          \n",
    "    content = urlopen(url).read().decode()\n",
    "          collector.feed(content)\n",
    "          urls = collector.getLinks()"
   ]
  },
  {
   "cell_type": "markdown",
   "id": "9320e574",
   "metadata": {},
   "source": [
    "# Question 8"
   ]
  },
  {
   "cell_type": "markdown",
   "id": "3b4b19e2",
   "metadata": {},
   "source": [
    "SQL Queries with table name 'table'"
   ]
  },
  {
   "cell_type": "raw",
   "id": "6733832d",
   "metadata": {},
   "source": [
    "(A) \n",
    "SELECT Temprature() \n",
    "FROM table;\n",
    "\n",
    "(B)\n",
    "SELECT DISTINCT(City)\n",
    "FROM table;\n",
    "\n",
    "(C)\n",
    "SELECT *\n",
    "FROM table\n",
    "WHERE Country = \"India\";\n",
    "\n",
    "(D)\n",
    "SELECT *\n",
    "FROM table\n",
    "WHERE Season = \"Fall\";\n",
    "\n",
    "(E)\n",
    "SELECT City,Country,Season\n",
    "FROM table\n",
    "WHERE AVG(Rainfall(mm)) between 200 and 400;\n",
    "\n",
    "(F)\n",
    "SELCET City,Country,Season\n",
    "FROM table\n",
    "WHERE AVG(Temprature) > 20\n",
    "GROUP BY Season = \"Fall\";\n",
    "\n",
    "(G)\n",
    "SELECT SUM(Rainfall(mm))\n",
    "WHERE City = \"Cairo\";\n",
    "\n",
    "(H)\n",
    "SELECT SUM(Rainfall(mm)),Season\n",
    "FROM table\n",
    "GROUP BY Season;\n"
   ]
  },
  {
   "cell_type": "markdown",
   "id": "60b41ef2",
   "metadata": {},
   "source": [
    "# Question 9"
   ]
  },
  {
   "cell_type": "code",
   "execution_count": 29,
   "id": "9957af3a",
   "metadata": {},
   "outputs": [],
   "source": [
    "# Given words\n",
    "words = ['The','Quick','Brown','Fox','Jumps','over','the','Lazy','dog']"
   ]
  },
  {
   "cell_type": "markdown",
   "id": "81c79ae5",
   "metadata": {},
   "source": [
    "List Comprehension Expressions"
   ]
  },
  {
   "cell_type": "code",
   "execution_count": 30,
   "id": "761d9e25",
   "metadata": {},
   "outputs": [
    {
     "name": "stdout",
     "output_type": "stream",
     "text": [
      "['the', 'quick', 'brown', 'fox', 'jumps', 'over', 'the', 'lazy', 'dog']\n"
     ]
    }
   ],
   "source": [
    "print([x.lower() for x in words])"
   ]
  },
  {
   "cell_type": "code",
   "execution_count": 31,
   "id": "1f6b21f1",
   "metadata": {},
   "outputs": [
    {
     "name": "stdout",
     "output_type": "stream",
     "text": [
      "['THE', 'QUICK', 'BROWN', 'FOX', 'JUMPS', 'OVER', 'THE', 'LAZY', 'DOG']\n"
     ]
    }
   ],
   "source": [
    "print([x.upper() for x in words])"
   ]
  },
  {
   "cell_type": "code",
   "execution_count": 32,
   "id": "b957ed5e",
   "metadata": {},
   "outputs": [
    {
     "name": "stdout",
     "output_type": "stream",
     "text": [
      "[3, 5, 5, 3, 5, 4, 3, 4, 3]\n"
     ]
    }
   ],
   "source": [
    "print([len(x) for x in words])"
   ]
  },
  {
   "cell_type": "code",
   "execution_count": 36,
   "id": "2caf4eec",
   "metadata": {},
   "outputs": [
    {
     "name": "stdout",
     "output_type": "stream",
     "text": [
      "[['THE', 'the', 3], ['QUICK', 'quick', 5], ['BROWN', 'brown', 5], ['FOX', 'fox', 3], ['JUMPS', 'jumps', 5], ['OVER', 'over', 4], ['THE', 'the', 3], ['LAZY', 'lazy', 4], ['DOG', 'dog', 3]]\n"
     ]
    }
   ],
   "source": [
    "print([[x.upper(),x.lower(),len(x)] for x in words])"
   ]
  },
  {
   "cell_type": "code",
   "execution_count": 37,
   "id": "5a0ca803",
   "metadata": {},
   "outputs": [
    {
     "name": "stdout",
     "output_type": "stream",
     "text": [
      "['quick', 'brown', 'jumps', 'over', 'lazy']\n"
     ]
    }
   ],
   "source": [
    "print([x.lower() for x in words if len(x)>=4])"
   ]
  }
 ],
 "metadata": {
  "kernelspec": {
   "display_name": "Python 3 (ipykernel)",
   "language": "python",
   "name": "python3"
  },
  "language_info": {
   "codemirror_mode": {
    "name": "ipython",
    "version": 3
   },
   "file_extension": ".py",
   "mimetype": "text/x-python",
   "name": "python",
   "nbconvert_exporter": "python",
   "pygments_lexer": "ipython3",
   "version": "3.9.7"
  }
 },
 "nbformat": 4,
 "nbformat_minor": 5
}
